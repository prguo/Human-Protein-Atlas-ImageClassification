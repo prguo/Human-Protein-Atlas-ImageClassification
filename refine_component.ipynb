{
 "cells": [
  {
   "cell_type": "markdown",
   "metadata": {},
   "source": [
    "pca in r, comp=15, cumul var=0.9022\n",
    "reduce dimension"
   ]
  },
  {
   "cell_type": "code",
   "execution_count": 294,
   "metadata": {},
   "outputs": [],
   "source": [
    "#import dataset\n",
    "import numpy as np\n",
    "import pandas as pd\n",
    "train = pd.read_csv(\"/Users/guopeiran/Desktop/comp755/project/pca_ff.csv\")\n",
    "label = pd.read_csv(\"/Users/guopeiran/Desktop/comp755/project/label_ff.csv\")"
   ]
  },
  {
   "cell_type": "code",
   "execution_count": 333,
   "metadata": {},
   "outputs": [],
   "source": [
    "#test & train dataset\n",
    "data = np.array(train)\n",
    "label = np.array(label)\n",
    "from sklearn.model_selection import train_test_split\n",
    "X_train, X_test, y_train, y_test = train_test_split(data, label, test_size=0.10, random_state=111)\n",
    "\n"
   ]
  },
  {
   "cell_type": "markdown",
   "metadata": {},
   "source": [
    "# knn"
   ]
  },
  {
   "cell_type": "code",
   "execution_count": 10,
   "metadata": {},
   "outputs": [
    {
     "name": "stdout",
     "output_type": "stream",
     "text": [
      "{'k': 7, 's': 0.5} 0.3775568588184809\n"
     ]
    }
   ],
   "source": [
    "#multilabel knn\n",
    "#cross-validation\n",
    "from skmultilearn.adapt import MLkNN\n",
    "from sklearn.model_selection import GridSearchCV\n",
    "\n",
    "parameters = {'k': range(2,8),'s':[0.5]}\n",
    "#score = 'f1_macro'\n",
    "\n",
    "clf = GridSearchCV(MLkNN(), parameters, scoring='f1_micro', cv=5)\n",
    "clf.fit(X_train, y_train)\n",
    "\n",
    "print (clf.best_params_, clf.best_score_)\n"
   ]
  },
  {
   "cell_type": "markdown",
   "metadata": {},
   "source": [
    "best k=7,s=0.5"
   ]
  },
  {
   "cell_type": "code",
   "execution_count": 336,
   "metadata": {},
   "outputs": [],
   "source": [
    "classifier_knn = MLkNN(k=7,s=0.5)\n",
    "\n",
    "# train\n",
    "classifier_knn.fit(X_train, y_train)\n",
    "\n",
    "# predict\n",
    "prediction_knn = classifier_knn.predict(X_test)"
   ]
  },
  {
   "cell_type": "code",
   "execution_count": 337,
   "metadata": {},
   "outputs": [
    {
     "name": "stderr",
     "output_type": "stream",
     "text": [
      "/Users/guopeiran/anaconda3/lib/python3.7/site-packages/sklearn/metrics/classification.py:1143: UndefinedMetricWarning: F-score is ill-defined and being set to 0.0 in labels with no predicted samples.\n",
      "  'precision', 'predicted', average, warn_for)\n"
     ]
    },
    {
     "data": {
      "text/plain": [
       "array([0.77090364, 0.72888889, 0.7281399 , 0.59778598, 0.69966997,\n",
       "       0.59444444, 0.34042553, 0.40546697, 0.        , 0.        ,\n",
       "       0.        , 0.56603774, 0.56074766, 0.51351351, 0.8436019 ,\n",
       "       0.        , 0.        , 0.        , 0.2556391 , 0.38139535,\n",
       "       0.        , 0.56580938, 0.58333333, 0.66026871, 0.17647059,\n",
       "       0.58908046, 0.25641026, 0.        ])"
      ]
     },
     "execution_count": 337,
     "metadata": {},
     "output_type": "execute_result"
    }
   ],
   "source": [
    "#test dataset score\n",
    "from sklearn.metrics import f1_score\n",
    "y_pred_knn = pd.DataFrame(np.array(prediction_knn.todense()))\n",
    "y_test1 = pd.DataFrame(y_test)\n",
    "f1_score(y_test1, y_pred_knn, average=None)"
   ]
  },
  {
   "cell_type": "code",
   "execution_count": 338,
   "metadata": {},
   "outputs": [
    {
     "name": "stdout",
     "output_type": "stream",
     "text": [
      "knn Accuracy: 0.3638996138996139\n"
     ]
    }
   ],
   "source": [
    "#test accuracy\n",
    "from sklearn.metrics import accuracy_score\n",
    "print(\"knn Accuracy:\",accuracy_score(y_test,y_pred_knn))"
   ]
  },
  {
   "cell_type": "code",
   "execution_count": 339,
   "metadata": {},
   "outputs": [
    {
     "name": "stderr",
     "output_type": "stream",
     "text": [
      "/Users/guopeiran/anaconda3/lib/python3.7/site-packages/sklearn/metrics/classification.py:1143: UndefinedMetricWarning: F-score is ill-defined and being set to 0.0 in labels with no predicted samples.\n",
      "  'precision', 'predicted', average, warn_for)\n"
     ]
    },
    {
     "data": {
      "text/plain": [
       "0.3863583324595054"
      ]
     },
     "execution_count": 339,
     "metadata": {},
     "output_type": "execute_result"
    }
   ],
   "source": [
    "f1_score(y_test1, y_pred_knn, average='macro')"
   ]
  },
  {
   "cell_type": "markdown",
   "metadata": {},
   "source": [
    "# randomforest"
   ]
  },
  {
   "cell_type": "code",
   "execution_count": 31,
   "metadata": {},
   "outputs": [
    {
     "name": "stdout",
     "output_type": "stream",
     "text": [
      "{'class_weight': 'balanced', 'n_estimators': 43} 0.3678300672292948\n"
     ]
    }
   ],
   "source": [
    "#random forest\n",
    "from sklearn.ensemble import RandomForestClassifier\n",
    "#cross-validation\n",
    "from sklearn.model_selection import GridSearchCV\n",
    "parameters = {'n_estimators': range(20,50),'class_weight':['balanced'] }\n",
    "score = 'f1_micro'\n",
    "\n",
    "clf = GridSearchCV(RandomForestClassifier(), parameters, scoring=score, cv=5)\n",
    "clf.fit(X_train, y_train)\n",
    "\n",
    "print (clf.best_params_, clf.best_score_)\n",
    "\n"
   ]
  },
  {
   "cell_type": "code",
   "execution_count": 238,
   "metadata": {},
   "outputs": [
    {
     "name": "stdout",
     "output_type": "stream",
     "text": [
      "[array([0.82363791, 0.934665  , 0.89039978, 0.86931996, 0.8946248 ,\n",
      "       0.85320417, 0.81879801, 0.81819654, 0.98      , 0.83168317,\n",
      "       0.77142857, 0.89928058, 0.87121745, 0.85265911, 0.92233478,\n",
      "       1.        , 0.84140551, 0.79167641, 0.84431487, 0.87829111,\n",
      "       0.84813754, 0.75757113, 0.91743119, 1.        ]), array([0.93508376, 0.978223  , 0.9602581 , 0.9585349 , 0.96139548,\n",
      "       0.95357068, 0.94918806, 0.96358437, 0.98989899, 0.94382022,\n",
      "       0.91525424, 0.9765625 , 0.96945967, 0.95321637, 0.9710513 ,\n",
      "       1.        , 0.95200573, 0.94173272, 0.94640523, 0.95930548,\n",
      "       0.96260163, 0.92029926, 0.97560976, 1.        ]), array([0.98148618, 0.99073666, 0.98703648, 0.98859587, 0.99174041,\n",
      "       0.98473447, 0.99124726, 0.99195289, 1.        , 0.94382022,\n",
      "       0.91525424, 0.99601594, 0.9904    , 0.9858871 , 0.99324675,\n",
      "       1.        , 0.98883929, 0.99049291, 0.98503401, 0.98660714,\n",
      "       1.        , 0.9827017 , 1.        , 1.        ]), array([0.99789401, 0.99866607, 0.99756246, 0.99855908, 0.99821535,\n",
      "       0.99803879, 0.99944843, 1.        , 1.        , 1.        ,\n",
      "       0.98113208, 0.999001  , 1.        , 1.        , 0.99947726,\n",
      "       1.        , 0.9988726 , 0.99926221, 0.99862069, 0.99774096,\n",
      "       0.99831366, 0.99852408, 1.        , 1.        ]), array([0.9998708 , 0.99776885, 0.99739783, 0.99565847, 0.99731584,\n",
      "       0.99781182, 0.99501385, 0.99682414, 0.98969072, 0.96385542,\n",
      "       0.96296296, 0.99446958, 0.99594485, 1.        , 0.99790356,\n",
      "       0.97297297, 0.99432463, 0.99866923, 0.99444444, 0.99754485,\n",
      "       0.99319728, 0.9997984 , 0.99159664, 1.        ]), array([0.99610895, 0.96735632, 0.976875  , 0.95870871, 0.96871166,\n",
      "       0.96356642, 0.94718514, 0.96688471, 0.87356322, 0.80555556,\n",
      "       0.80851064, 0.95233106, 0.95173582, 0.94155844, 0.97972252,\n",
      "       0.73333333, 0.95023697, 0.98088789, 0.93451067, 0.97308809,\n",
      "       0.94661922, 0.99098366, 0.91696751, 0.71428571]), array([0.95963081, 0.84405558, 0.88049239, 0.76765882, 0.82816312,\n",
      "       0.80386524, 0.74341193, 0.75853599, 0.33898305, 0.25      ,\n",
      "       0.25806452, 0.77600979, 0.71709845, 0.71484888, 0.9086758 ,\n",
      "       0.27272727, 0.73307912, 0.84397405, 0.70250896, 0.86058002,\n",
      "       0.69026549, 0.90863763, 0.50746269, 0.36363636]), array([0.86781413, 0.73107345, 0.77171262, 0.58685685, 0.68466354,\n",
      "       0.63242759, 0.46959459, 0.49672814, 0.07843137, 0.04651163,\n",
      "       0.07142857, 0.5915493 , 0.50302297, 0.44761905, 0.8391014 ,\n",
      "       0.1       , 0.47065593, 0.61852305, 0.45464248, 0.73503458,\n",
      "       0.42553191, 0.71368075, 0.26589595, 0.        ])]\n"
     ]
    },
    {
     "name": "stderr",
     "output_type": "stream",
     "text": [
      "/Users/guopeiran/anaconda3/lib/python3.7/site-packages/sklearn/metrics/classification.py:1143: UndefinedMetricWarning: F-score is ill-defined and being set to 0.0 in labels with no predicted samples.\n",
      "  'precision', 'predicted', average, warn_for)\n"
     ]
    }
   ],
   "source": [
    "#cutoff change\n",
    "scores = []\n",
    "for cutoff in np.arange(0.1,0.9,0.1):\n",
    "    clf = RandomForestClassifier(n_estimators = 43,class_weight = 'balanced')\n",
    "    clf.fit(X_train, y_train)\n",
    "    prob = clf.predict_proba(X_train)\n",
    "    y = []\n",
    "    for i in range(0,24):\n",
    "        y.append ( (prob[i][:,1]>cutoff).astype(int) )\n",
    "    \n",
    "    ypred = pd.DataFrame(y).transpose()\n",
    "\n",
    "    y_1 = pd.DataFrame(y_train)\n",
    "\n",
    "    validated = f1_score(y_1,ypred,average=None)\n",
    "    scores.append(validated)   "
   ]
  },
  {
   "cell_type": "code",
   "execution_count": 253,
   "metadata": {},
   "outputs": [
    {
     "data": {
      "image/png": "[encoded data removed]",
      "text/plain": [
       "<Figure size 432x288 with 1 Axes>"
      ]
     },
     "metadata": {
      "needs_background": "light"
     },
     "output_type": "display_data"
    }
   ],
   "source": [
    "import seaborn as sns\n",
    "from matplotlib import pyplot as plt\n",
    "scores_f = pd.DataFrame(scores)\n",
    "sns.boxplot(data=scores_f.transpose())\n",
    "plt.xlabel('cutoff')\n",
    "plt.ylabel('F1 score')\n",
    "plt.title('F1 score for the cutoff')\n",
    "plt.ylim(0.6,1.05)\n",
    "plt.show()"
   ]
  },
  {
   "cell_type": "markdown",
   "metadata": {},
   "source": [
    "beset cutoff=0.4"
   ]
  },
  {
   "cell_type": "code",
   "execution_count": 334,
   "metadata": {},
   "outputs": [
    {
     "name": "stdout",
     "output_type": "stream",
     "text": [
      "random forest Accuracy: 0.379021879021879\n"
     ]
    }
   ],
   "source": [
    "#test data accuracy with ntree=43, cutoff=0.4\n",
    "clf = RandomForestClassifier(n_estimators = 43,class_weight = 'balanced')\n",
    "clf.fit(X_train, y_train)\n",
    "prob = clf.predict_proba(X_test)\n",
    "y = []\n",
    "for i in range(0,y_test.shape[1]):\n",
    "    y.append ( (prob[i][:,1]>0.4).astype(int) )\n",
    "    \n",
    "prediction_rf = np.array(pd.DataFrame(y).transpose())\n",
    "\n",
    "print(\"random forest Accuracy:\",accuracy_score(y_test,prediction_rf))\n",
    "\n"
   ]
  },
  {
   "cell_type": "code",
   "execution_count": 335,
   "metadata": {},
   "outputs": [
    {
     "name": "stderr",
     "output_type": "stream",
     "text": [
      "/Users/guopeiran/anaconda3/lib/python3.7/site-packages/sklearn/metrics/classification.py:1143: UndefinedMetricWarning: F-score is ill-defined and being set to 0.0 in labels with no predicted samples.\n",
      "  'precision', 'predicted', average, warn_for)\n"
     ]
    },
    {
     "data": {
      "text/plain": [
       "array([0.79505027, 0.70422535, 0.72785829, 0.58736059, 0.67346939,\n",
       "       0.60490463, 0.38410596, 0.44907407, 0.        , 0.        ,\n",
       "       0.        , 0.49275362, 0.52336449, 0.54794521, 0.85      ,\n",
       "       0.        , 0.        , 0.        , 0.25757576, 0.42857143,\n",
       "       0.        , 0.57698057, 0.54545455, 0.66666667, 0.33333333,\n",
       "       0.64562788, 0.22857143, 0.        ])"
      ]
     },
     "execution_count": 335,
     "metadata": {},
     "output_type": "execute_result"
    }
   ],
   "source": [
    "#f1 score\n",
    "y_pred_rf = pd.DataFrame(prediction_rf)\n",
    "y_test_rf = pd.DataFrame(y_test)\n",
    "f1_score(y_test_rf, y_pred_rf, average=None)"
   ]
  },
  {
   "cell_type": "code",
   "execution_count": 340,
   "metadata": {},
   "outputs": [
    {
     "name": "stderr",
     "output_type": "stream",
     "text": [
      "/Users/guopeiran/anaconda3/lib/python3.7/site-packages/sklearn/metrics/classification.py:1143: UndefinedMetricWarning: F-score is ill-defined and being set to 0.0 in labels with no predicted samples.\n",
      "  'precision', 'predicted', average, warn_for)\n"
     ]
    },
    {
     "data": {
      "text/plain": [
       "0.3936747672910813"
      ]
     },
     "execution_count": 340,
     "metadata": {},
     "output_type": "execute_result"
    }
   ],
   "source": [
    "f1_score(y_test1, y_pred_rf, average='macro')"
   ]
  },
  {
   "cell_type": "markdown",
   "metadata": {},
   "source": [
    "# lda (small sample size)"
   ]
  },
  {
   "cell_type": "code",
   "execution_count": 548,
   "metadata": {},
   "outputs": [],
   "source": [
    "label_lda = pd.read_csv(\"/Users/guopeiran/Desktop/comp755/project/label_lda.csv\")\n",
    "label_lda = np.array(label_lda)\n",
    "X_train_up, X_test_up, y_train_lda, y_test_lda = train_test_split(data, label_lda, test_size=0.10, random_state=111)\n",
    "y_train_lda = np.ravel(y_train_lda)\n",
    "y_test_lda = np.ravel(y_test_lda)\n"
   ]
  },
  {
   "cell_type": "code",
   "execution_count": 549,
   "metadata": {},
   "outputs": [],
   "source": [
    "# number of components = class-1 \n",
    "from sklearn.discriminant_analysis import LinearDiscriminantAnalysis\n",
    "\n",
    "lda = LinearDiscriminantAnalysis(n_components=5)\n",
    "\n",
    "X_r2 = lda.fit(X_train_up, y_train_lda).transform(X_train_up)\n",
    "X_1 = lda.fit(X_train_up, y_train_lda).transform(X_test_up)"
   ]
  },
  {
   "cell_type": "code",
   "execution_count": 554,
   "metadata": {},
   "outputs": [],
   "source": [
    "#update dataset\n",
    "weak = [8,15,27]\n",
    "for j in weak:\n",
    "    #X_r2 = lda.fit(X_train_up, y_train_lda).transform(X_train_up)\n",
    "    #X_r = lda.fit(X_train_up, y_train_lda).transform(X_test_up)\n",
    "    for i in range(0,X_train_up.shape[0]):\n",
    "        if y_train[:,j][i]==1:\n",
    "            X_train_up[i,0:5] = X_r2[i,:]\n",
    "            X_train_up[i,6:] = 0\n",
    "    for k in range(0,X_test.shape[0]):\n",
    "        if y_test[:,j][k]==1:\n",
    "            X_test_up[k,0:5] = X_1[k,:]\n",
    "            X_test_up[k,6:] = 0\n",
    "\n",
    "double = [9]\n",
    "for j in double:\n",
    "    #X_r2 = lda.fit(X_train_up, y_train_lda).transform(X_train_up)\n",
    "    #X_r = lda.fit(X_train_up, y_train_lda).transform(X_test_up)\n",
    "    for i in range(0,X_train_up.shape[0]):\n",
    "        if y_train[:,j][i]==1 and y_train[:,j+1][i]==1:\n",
    "            X_train_up[i,0:5] = X_r2[i,:]\n",
    "            X_train_up[i,6:] = 0\n",
    "        elif (y_train[:,j][i]==1):\n",
    "            X_train_up[i,0:5] = X_r2[i,:]\n",
    "            X_train_up[i,6:] = 0\n",
    "        elif y_train[:,j+1][i]==1:\n",
    "            X_train_up[i,0:5] = X_r2[i,:]\n",
    "            X_train_up[i,6:] = 0\n",
    "\n",
    "\n",
    "    for k in range(0,X_test.shape[0]):\n",
    "        if y_train[:,j][k]==1 and y_train[:,j+1][k]==1:\n",
    "            X_test_up[k,0:5] = X_1[k,:]\n",
    "            X_test_up[k,6:] = 0\n",
    "        elif y_train[:,j][k]==1:\n",
    "            X_test_up[k,0:5] = X_1[k,:]\n",
    "            X_test_up[k,6:] = 0\n",
    "        elif y_train[:,j+1][k]==1:\n",
    "            X_test_up[k,0:5] = X_1[k,:]\n",
    "            X_test_up[k,6:] = 0\n"
   ]
  },
  {
   "cell_type": "code",
   "execution_count": 555,
   "metadata": {},
   "outputs": [
    {
     "name": "stdout",
     "output_type": "stream",
     "text": [
      "[0.77194299 0.72888889 0.72496025 0.59778598 0.70198675 0.59444444\n",
      " 0.35211268 0.40816327 0.8        0.         0.         0.56603774\n",
      " 0.56074766 0.51351351 0.8436019  0.4        0.         0.\n",
      " 0.26865672 0.37962963 0.         0.56580938 0.58741259 0.66666667\n",
      " 0.17647059 0.590681   0.25       0.        ]\n",
      "knn Accuracy: 0.36518661518661516\n"
     ]
    },
    {
     "name": "stderr",
     "output_type": "stream",
     "text": [
      "/Users/guopeiran/anaconda3/lib/python3.7/site-packages/sklearn/metrics/classification.py:1143: UndefinedMetricWarning: F-score is ill-defined and being set to 0.0 in labels with no predicted samples.\n",
      "  'precision', 'predicted', average, warn_for)\n",
      "/Users/guopeiran/anaconda3/lib/python3.7/site-packages/sklearn/metrics/classification.py:1143: UndefinedMetricWarning: F-score is ill-defined and being set to 0.0 in labels with no predicted samples.\n",
      "  'precision', 'predicted', average, warn_for)\n"
     ]
    },
    {
     "data": {
      "text/plain": [
       "0.4303397367129817"
      ]
     },
     "execution_count": 555,
     "metadata": {},
     "output_type": "execute_result"
    }
   ],
   "source": [
    "#knn\n",
    "# train\n",
    "classifier_knn.fit(X_train_up, y_train)\n",
    "\n",
    "# predict\n",
    "prediction_knn_up = classifier_knn.predict(X_test_up)\n",
    "\n",
    "#test dataset\n",
    "from sklearn.metrics import f1_score\n",
    "y_pred_knn_up = pd.DataFrame(np.array(prediction_knn_up.todense()))\n",
    "y_test1 = pd.DataFrame(y_test)\n",
    "print(f1_score(y_test1, y_pred_knn_up, average=None))\n",
    "print(\"knn Accuracy:\",accuracy_score(y_test,y_pred_knn_up))\n",
    "f1_score(y_test1, y_pred_knn_up, average='macro')"
   ]
  },
  {
   "cell_type": "code",
   "execution_count": 556,
   "metadata": {},
   "outputs": [
    {
     "name": "stdout",
     "output_type": "stream",
     "text": [
      "random forest Accuracy: 0.3819176319176319\n",
      "[0.79768786 0.68269231 0.74203822 0.58646617 0.68918919 0.61917808\n",
      " 0.39215686 0.44851259 0.66666667 0.         0.         0.52777778\n",
      " 0.50485437 0.52054795 0.84263959 0.66666667 0.         0.\n",
      " 0.31111111 0.43636364 0.         0.60059172 0.60740741 0.6328125\n",
      " 0.38888889 0.64675325 0.1875     0.66666667]\n",
      "0.4701846236857499\n"
     ]
    },
    {
     "name": "stderr",
     "output_type": "stream",
     "text": [
      "/Users/guopeiran/anaconda3/lib/python3.7/site-packages/sklearn/metrics/classification.py:1143: UndefinedMetricWarning: F-score is ill-defined and being set to 0.0 in labels with no predicted samples.\n",
      "  'precision', 'predicted', average, warn_for)\n",
      "/Users/guopeiran/anaconda3/lib/python3.7/site-packages/sklearn/metrics/classification.py:1143: UndefinedMetricWarning: F-score is ill-defined and being set to 0.0 in labels with no predicted samples.\n",
      "  'precision', 'predicted', average, warn_for)\n"
     ]
    }
   ],
   "source": [
    "#random forest\n",
    "clf.fit(X_train_up, y_train)\n",
    "prob_up = clf.predict_proba(X_test_up)\n",
    "y_up = []\n",
    "for i in range(0,y_test.shape[1]):\n",
    "    y_up.append ( (prob_up[i][:,1]>0.4).astype(int) )\n",
    "    \n",
    "prediction_rf_up = np.array(pd.DataFrame(y_up).transpose())\n",
    "\n",
    "print(\"random forest Accuracy:\",accuracy_score(y_test,prediction_rf_up))\n",
    "y_pred_rf_up = pd.DataFrame(prediction_rf_up)\n",
    "y_test_rf = pd.DataFrame(y_test)\n",
    "print(f1_score(y_test_rf, y_pred_rf_up, average=None))\n",
    "print(f1_score(y_test1, y_pred_rf_up, average='macro'))"
   ]
  },
  {
   "cell_type": "code",
   "execution_count": 570,
   "metadata": {},
   "outputs": [
    {
     "name": "stdout",
     "output_type": "stream",
     "text": [
      "[0.82323344 0.73878872 0.74996086 0.60307195 0.69786692 0.62072313\n",
      " 0.46978955 0.51799221 0.81818182 0.84782609 0.71698113 0.636908\n",
      " 0.50300601 0.49246231 0.84384093 0.71428571 0.09326425 0.18473896\n",
      " 0.37048917 0.47597254 0.07777778 0.61382114 0.5522279  0.72101662\n",
      " 0.48303393 0.66409532 0.34022989 0.30769231]\n",
      "knn Accuracy: 0.4225669412976313\n"
     ]
    },
    {
     "data": {
      "text/plain": [
       "0.5599742350609526"
      ]
     },
     "execution_count": 570,
     "metadata": {},
     "output_type": "execute_result"
    }
   ],
   "source": [
    "#overall\n",
    "all_X = np.concatenate([X_train_up, X_test_up])\n",
    "all_y = np.concatenate([y_train, y_test])\n",
    "#knn\n",
    "# train\n",
    "classifier_knn.fit(X_train_up, y_train)\n",
    "\n",
    "# predict\n",
    "prediction_knn_up = classifier_knn.predict(all_X)\n",
    "\n",
    "#test dataset\n",
    "from sklearn.metrics import f1_score\n",
    "y_pred_knn_up = pd.DataFrame(np.array(prediction_knn_up.todense()))\n",
    "y_test1 = pd.DataFrame(all_y)\n",
    "print(f1_score(y_test1, y_pred_knn_up, average=None))\n",
    "print(\"knn Accuracy:\",accuracy_score(all_y,y_pred_knn_up))\n",
    "f1_score(y_test1, y_pred_knn_up, average='macro')"
   ]
  },
  {
   "cell_type": "code",
   "execution_count": 573,
   "metadata": {},
   "outputs": [
    {
     "name": "stdout",
     "output_type": "stream",
     "text": [
      "random forest Accuracy: 0.9335092687950567\n",
      "[0.97783623 0.96984515 0.97548064 0.95994747 0.97542327 0.97046926\n",
      " 0.9517031  0.95373406 0.97247706 0.96551724 0.98181818 0.96490407\n",
      " 0.96136701 0.96571429 0.98204159 0.97560976 0.93480441 0.93670886\n",
      " 0.94165222 0.95287595 0.9382716  0.96092386 0.962729   0.96756478\n",
      " 0.96190476 0.96509716 0.95583596 0.95238095]\n",
      "0.961951353655589\n"
     ]
    }
   ],
   "source": [
    "#overall\n",
    "#random forest\n",
    "clf.fit(X_train_up, y_train)\n",
    "prob_up = clf.predict_proba(all_X)\n",
    "y_up = []\n",
    "for i in range(0,y_test.shape[1]):\n",
    "    y_up.append ( (prob_up[i][:,1]>0.4).astype(int) )\n",
    "    \n",
    "prediction_rf_up = np.array(pd.DataFrame(y_up).transpose())\n",
    "\n",
    "print(\"random forest Accuracy:\",accuracy_score(all_y,prediction_rf_up))\n",
    "y_pred_rf_up = pd.DataFrame(prediction_rf_up)\n",
    "y_test_rf = pd.DataFrame(all_y)\n",
    "print(f1_score(y_test_rf, y_pred_rf_up, average=None))\n",
    "print(f1_score(y_test1, y_pred_rf_up, average='macro'))"
   ]
  },
  {
   "cell_type": "code",
   "execution_count": null,
   "metadata": {},
   "outputs": [],
   "source": []
  }
 ],
 "metadata": {
  "kernelspec": {
   "display_name": "Python 2",
   "language": "python",
   "name": "python2"
  },
  "language_info": {
   "codemirror_mode": {
    "name": "ipython",
    "version": 2
   },
   "file_extension": ".py",
   "mimetype": "text/x-python",
   "name": "python",
   "nbconvert_exporter": "python",
   "pygments_lexer": "ipython2",
   "version": "2.7.15"
  }
 },
 "nbformat": 4,
 "nbformat_minor": 2
}
