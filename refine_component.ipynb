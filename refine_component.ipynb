{
 "cells": [
  {
   "cell_type": "markdown",
   "metadata": {},
   "source": [
    "# Dimensionality Reduction\n",
    "Applied pca in R with 15 components and 90.22% cumulative variance"
   ]
  },
  {
   "cell_type": "code",
   "execution_count": 294,
   "metadata": {},
   "outputs": [],
   "source": [
    "#import dataset\n",
    "import numpy as np\n",
    "import pandas as pd\n",
    "train = pd.read_csv(\"/Users/guopeiran/Desktop/comp755/project/pca_ff.csv\")\n",
    "label = pd.read_csv(\"/Users/guopeiran/Desktop/comp755/project/label_ff.csv\")"
   ]
  },
  {
   "cell_type": "code",
   "execution_count": 333,
   "metadata": {},
   "outputs": [],
   "source": [
    "#test & train dataset\n",
    "data = np.array(train)\n",
    "label = np.array(label)\n",
    "from sklearn.model_selection import train_test_split\n",
    "X_train, X_test, y_train, y_test = train_test_split(data, label, test_size=0.10, random_state=111)\n",
    "\n"
   ]
  },
  {
   "cell_type": "markdown",
   "metadata": {},
   "source": [
    "# Multi-label K Nearest Neighbor"
   ]
  },
  {
   "cell_type": "code",
   "execution_count": 10,
   "metadata": {},
   "outputs": [
    {
     "name": "stdout",
     "output_type": "stream",
     "text": [
      "{'k': 7, 's': 0.5} 0.3775568588184809\n"
     ]
    }
   ],
   "source": [
    "#multilabel knn\n",
    "#cross-validation\n",
    "from skmultilearn.adapt import MLkNN\n",
    "from sklearn.model_selection import GridSearchCV\n",
    "\n",
    "parameters = {'k': range(2,8),'s':[0.5]}\n",
    "#score = 'f1_macro'\n",
    "\n",
    "clf = GridSearchCV(MLkNN(), parameters, scoring='f1_micro', cv=5)\n",
    "clf.fit(X_train, y_train)\n",
    "\n",
    "print (clf.best_params_, clf.best_score_)\n"
   ]
  },
  {
   "cell_type": "markdown",
   "metadata": {},
   "source": [
    "best k=7,s=0.5"
   ]
  },
  {
   "cell_type": "markdown",
   "metadata": {},
   "source": [
    "# Rndom Forest"
   ]
  },
  {
   "cell_type": "code",
   "execution_count": 31,
   "metadata": {},
   "outputs": [
    {
     "name": "stdout",
     "output_type": "stream",
     "text": [
      "{'class_weight': 'balanced', 'n_estimators': 43} 0.3678300672292948\n"
     ]
    }
   ],
   "source": [
    "#random forest\n",
    "from sklearn.ensemble import RandomForestClassifier\n",
    "#cross-validation\n",
    "from sklearn.model_selection import GridSearchCV\n",
    "parameters = {'n_estimators': range(20,50),'class_weight':['balanced'] }\n",
    "score = 'f1_micro'\n",
    "\n",
    "clf = GridSearchCV(RandomForestClassifier(), parameters, scoring=score, cv=5)\n",
    "clf.fit(X_train, y_train)\n",
    "\n",
    "print (clf.best_params_, clf.best_score_)\n",
    "\n"
   ]
  },
  {
   "cell_type": "code",
   "execution_count": null,
   "metadata": {},
   "outputs": [],
   "source": [
    "#cutoff change\n",
    "scores = []\n",
    "for cutoff in np.arange(0.1,0.9,0.1):\n",
    "    clf = RandomForestClassifier(n_estimators = 43,class_weight = 'balanced')\n",
    "    clf.fit(X_train, y_train)\n",
    "    prob = clf.predict_proba(X_train)\n",
    "    y = []\n",
    "    for i in range(0,24):\n",
    "        y.append ( (prob[i][:,1]>cutoff).astype(int) )\n",
    "    \n",
    "    ypred = pd.DataFrame(y).transpose()\n",
    "\n",
    "    y_1 = pd.DataFrame(y_train)\n",
    "\n",
    "    validated = f1_score(y_1,ypred,average=None)\n",
    "    scores.append(validated) "
   ]
  },
  {
   "cell_type": "code",
   "execution_count": 253,
   "metadata": {},
   "outputs": [
    {
     "data": {
      "image/png": "[encoded data removed]",
      "text/plain": [
       "<Figure size 432x288 with 1 Axes>"
      ]
     },
     "metadata": {
      "needs_background": "light"
     },
     "output_type": "display_data"
    }
   ],
   "source": [
    "import seaborn as sns\n",
    "from matplotlib import pyplot as plt\n",
    "scores_f = pd.DataFrame(scores)\n",
    "sns.boxplot(data=scores_f.transpose())\n",
    "plt.xlabel('cutoff')\n",
    "plt.ylabel('F1 score')\n",
    "plt.title('F1 score for the cutoff')\n",
    "plt.ylim(0.6,1.05)\n",
    "plt.show()"
   ]
  },
  {
   "cell_type": "markdown",
   "metadata": {},
   "source": [
    "beset cutoff=0.4"
   ]
  },
  {
   "cell_type": "markdown",
   "metadata": {},
   "source": [
    "# Linear Discriminant Analysis (minority classes)"
   ]
  },
  {
   "cell_type": "code",
   "execution_count": 548,
   "metadata": {},
   "outputs": [],
   "source": [
    "label_lda = pd.read_csv(\"/Users/guopeiran/Desktop/comp755/project/label_lda.csv\")\n",
    "label_lda = np.array(label_lda)\n",
    "X_train_up, X_test_up, y_train_lda, y_test_lda = train_test_split(data, label_lda, test_size=0.10, random_state=111)\n",
    "y_train_lda = np.ravel(y_train_lda)\n",
    "y_test_lda = np.ravel(y_test_lda)\n"
   ]
  },
  {
   "cell_type": "code",
   "execution_count": 549,
   "metadata": {},
   "outputs": [],
   "source": [
    "# number of components = class-1 \n",
    "from sklearn.discriminant_analysis import LinearDiscriminantAnalysis\n",
    "\n",
    "lda = LinearDiscriminantAnalysis(n_components=5)\n",
    "\n",
    "X_r2 = lda.fit(X_train_up, y_train_lda).transform(X_train_up)\n",
    "X_1 = lda.fit(X_train_up, y_train_lda).transform(X_test_up)"
   ]
  },
  {
   "cell_type": "code",
   "execution_count": 554,
   "metadata": {},
   "outputs": [],
   "source": [
    "#update dataset\n",
    "weak = [8,15,27]\n",
    "for j in weak:\n",
    "    #X_r2 = lda.fit(X_train_up, y_train_lda).transform(X_train_up)\n",
    "    #X_r = lda.fit(X_train_up, y_train_lda).transform(X_test_up)\n",
    "    for i in range(0,X_train_up.shape[0]):\n",
    "        if y_train[:,j][i]==1:\n",
    "            X_train_up[i,0:5] = X_r2[i,:]\n",
    "            X_train_up[i,6:] = 0\n",
    "    for k in range(0,X_test.shape[0]):\n",
    "        if y_test[:,j][k]==1:\n",
    "            X_test_up[k,0:5] = X_1[k,:]\n",
    "            X_test_up[k,6:] = 0\n",
    "\n",
    "double = [9]\n",
    "for j in double:\n",
    "    #X_r2 = lda.fit(X_train_up, y_train_lda).transform(X_train_up)\n",
    "    #X_r = lda.fit(X_train_up, y_train_lda).transform(X_test_up)\n",
    "    for i in range(0,X_train_up.shape[0]):\n",
    "        if y_train[:,j][i]==1 and y_train[:,j+1][i]==1:\n",
    "            X_train_up[i,0:5] = X_r2[i,:]\n",
    "            X_train_up[i,6:] = 0\n",
    "        elif (y_train[:,j][i]==1):\n",
    "            X_train_up[i,0:5] = X_r2[i,:]\n",
    "            X_train_up[i,6:] = 0\n",
    "        elif y_train[:,j+1][i]==1:\n",
    "            X_train_up[i,0:5] = X_r2[i,:]\n",
    "            X_train_up[i,6:] = 0\n",
    "\n",
    "\n",
    "    for k in range(0,X_test.shape[0]):\n",
    "        if y_test[:,j][k]==1 and y_train[:,j+1][k]==1:\n",
    "            X_test_up[k,0:5] = X_1[k,:]\n",
    "            X_test_up[k,6:] = 0\n",
    "        elif y_test[:,j][k]==1:\n",
    "            X_test_up[k,0:5] = X_1[k,:]\n",
    "            X_test_up[k,6:] = 0\n",
    "        elif y_test[:,j+1][k]==1:\n",
    "            X_test_up[k,0:5] = X_1[k,:]\n",
    "            X_test_up[k,6:] = 0\n"
   ]
  },
  {
   "cell_type": "code",
   "execution_count": 555,
   "metadata": {},
   "outputs": [
    {
     "name": "stdout",
     "output_type": "stream",
     "text": [
      "[0.77194299 0.72888889 0.72496025 0.59778598 0.70198675 0.59444444\n",
      " 0.35211268 0.40816327 0.8        0.         0.         0.56603774\n",
      " 0.56074766 0.51351351 0.8436019  0.4        0.         0.\n",
      " 0.26865672 0.37962963 0.         0.56580938 0.58741259 0.66666667\n",
      " 0.17647059 0.590681   0.25       0.        ]\n",
      "knn Accuracy: 0.36518661518661516\n"
     ]
    },
    {
     "name": "stderr",
     "output_type": "stream",
     "text": [
      "/Users/guopeiran/anaconda3/lib/python3.7/site-packages/sklearn/metrics/classification.py:1143: UndefinedMetricWarning: F-score is ill-defined and being set to 0.0 in labels with no predicted samples.\n",
      "  'precision', 'predicted', average, warn_for)\n",
      "/Users/guopeiran/anaconda3/lib/python3.7/site-packages/sklearn/metrics/classification.py:1143: UndefinedMetricWarning: F-score is ill-defined and being set to 0.0 in labels with no predicted samples.\n",
      "  'precision', 'predicted', average, warn_for)\n"
     ]
    },
    {
     "data": {
      "text/plain": [
       "0.4303397367129817"
      ]
     },
     "execution_count": 555,
     "metadata": {},
     "output_type": "execute_result"
    }
   ],
   "source": [
    "#knn with k=7,s=0.5\n",
    "# train\n",
    "classifier_knn = MLkNN(k=7,s=0.5)\n",
    "classifier_knn.fit(X_train_up, y_train)\n",
    "\n",
    "# predict\n",
    "prediction_knn_up = classifier_knn.predict(X_test_up)\n",
    "\n",
    "#test dataset\n",
    "from sklearn.metrics import f1_score\n",
    "y_pred_knn_up = pd.DataFrame(np.array(prediction_knn_up.todense()))\n",
    "y_test1 = pd.DataFrame(y_test)\n",
    "print(f1_score(y_test1, y_pred_knn_up, average=None))\n",
    "print(\"knn Accuracy:\",accuracy_score(y_test,y_pred_knn_up))\n",
    "f1_score(y_test1, y_pred_knn_up, average='macro')"
   ]
  },
  {
   "cell_type": "code",
   "execution_count": 556,
   "metadata": {},
   "outputs": [
    {
     "name": "stdout",
     "output_type": "stream",
     "text": [
      "random forest Accuracy: 0.3819176319176319\n",
      "[0.79768786 0.68269231 0.74203822 0.58646617 0.68918919 0.61917808\n",
      " 0.39215686 0.44851259 0.66666667 0.         0.         0.52777778\n",
      " 0.50485437 0.52054795 0.84263959 0.66666667 0.         0.\n",
      " 0.31111111 0.43636364 0.         0.60059172 0.60740741 0.6328125\n",
      " 0.38888889 0.64675325 0.1875     0.66666667]\n",
      "0.4701846236857499\n"
     ]
    },
    {
     "name": "stderr",
     "output_type": "stream",
     "text": [
      "/Users/guopeiran/anaconda3/lib/python3.7/site-packages/sklearn/metrics/classification.py:1143: UndefinedMetricWarning: F-score is ill-defined and being set to 0.0 in labels with no predicted samples.\n",
      "  'precision', 'predicted', average, warn_for)\n",
      "/Users/guopeiran/anaconda3/lib/python3.7/site-packages/sklearn/metrics/classification.py:1143: UndefinedMetricWarning: F-score is ill-defined and being set to 0.0 in labels with no predicted samples.\n",
      "  'precision', 'predicted', average, warn_for)\n"
     ]
    }
   ],
   "source": [
    "#random forest\n",
    "#test data accuracy with ntree=43, cutoff=0.4\n",
    "clf = RandomForestClassifier(n_estimators = 43,class_weight = 'balanced')\n",
    "clf.fit(X_train_up, y_train)\n",
    "prob_up = clf.predict_proba(X_test_up)\n",
    "y_up = []\n",
    "for i in range(0,y_test.shape[1]):\n",
    "    y_up.append ( (prob_up[i][:,1]>0.4).astype(int) )\n",
    "    \n",
    "prediction_rf_up = np.array(pd.DataFrame(y_up).transpose())\n",
    "\n",
    "print(\"random forest Accuracy:\",accuracy_score(y_test,prediction_rf_up))\n",
    "y_pred_rf_up = pd.DataFrame(prediction_rf_up)\n",
    "y_test_rf = pd.DataFrame(y_test)\n",
    "print(f1_score(y_test_rf, y_pred_rf_up, average=None))\n",
    "print(f1_score(y_test1, y_pred_rf_up, average='macro'))"
   ]
  }
 ],
 "metadata": {
  "kernelspec": {
   "display_name": "Python 3",
   "language": "python",
   "name": "python3"
  },
  "language_info": {
   "codemirror_mode": {
    "name": "ipython",
    "version": 3
   },
   "file_extension": ".py",
   "mimetype": "text/x-python",
   "name": "python",
   "nbconvert_exporter": "python",
   "pygments_lexer": "ipython3",
   "version": "3.7.0"
  }
 },
 "nbformat": 4,
 "nbformat_minor": 2
}
